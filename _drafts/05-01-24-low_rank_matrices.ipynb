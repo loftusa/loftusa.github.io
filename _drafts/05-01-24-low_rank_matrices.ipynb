{
 "cells": [
  {
   "cell_type": "markdown",
   "id": "464a241a-a125-4a22-a65c-2ca368ac0031",
   "metadata": {},
   "source": [
    "---\n",
    "title:  \"What is going on with low-rank updates?\"\n",
    "date:   2024-05-01\n",
    "permalink: /posts/2024/05/low-rank-updates/\n",
    "mathjax: true\n",
    "---"
   ]
  },
  {
   "cell_type": "markdown",
   "id": "70e9cbfb-92ca-444c-a3f7-49e8090437d2",
   "metadata": {},
   "source": [
    "# What is going on with low-rank updates?\n",
    "\n",
    "PEFT methods like LoRA, DoRA, QLoRA, and so forth have massively proliferated in the past couple years and have had a huge impact in the deep learning world. They let us fine-tune quickly and easily, they reduce memory overhead, and we don't even have to change model weights.\n",
    "\n",
    "But what the hell are they actually doing? If I make a low-rank change to some set of weight matrices $\\{W_i: 0<i<N\\}$, what am I actually changing about the behavior of my network?\n",
    "\n",
    "## PEFT methods\n",
    "First, I'm going to describe what a PEFT method actually is. Then I'm going to \n",
    "\n",
    "Let's zoom in and think about the simple case. Assume we're making a rank-1 change to the network and let's look at a particular weight matrix and activation with no nonlinearities or anything complicated. We're just in linear land.\n",
    "\n",
    "We have some weight matrix $W$ and activation $x$, which could be a token vector or something.\n",
    "\n",
    "### $Wx = y$\n",
    "\n",
    "We want to change the behavior of our network so that it does something a little different. Maybe we're applying a rank-one update to update the model to move the Space Needle to Boston. Whatever. $W$ is really big and we don't want to have to change it, so it remains static. Here's what we'll do instead:\n",
    "\n",
    "### $W' = W + uv^\\top$\n",
    "\n",
    "We'll keep $W$ static and train $u$ and $v$ on gradient descent. To keep things simple, let's assume $W$ is a square matrix of size $(n, n)$. Then, $u, v \\in \\mathcal{R}^n$ as well, and $uv^\\top \\in \\mathcal{R}^{n,n}$. Once u and v are trained, a new forward pass looks like\n",
    "\n",
    "### $W'x = z$\n",
    "\n",
    "Where $z$ is the new output as a result of the updated model.\n",
    "\n",
    "But we can expand this out algebraically to get some more intuition about what's going on:\n",
    "\n",
    "\\begin{align*}\n",
    "W'x &= z \\\\\n",
    "(W + uv^\\top) x &= z \\\\\n",
    "Wx + (uv^\\top) x &= z \\\\\n",
    "y + (uv^\\top)x &= z\n",
    "\\end{align*}\n",
    "\n",
    "Since $Wx = y$."
   ]
  },
  {
   "cell_type": "markdown",
   "id": "8f2d452b-cb1c-484a-b8b3-68d8b2f50ea0",
   "metadata": {},
   "source": [
    "We have another interesting rearrangement we can do here. Although $uv^\\top$ is a $n \\times n$ matrix, $v^\\top x$ is just a scalar value - the dot product between $x$ and $v$. We can run with that idea:\n",
    "\n",
    "\\begin{align*}\n",
    "y + (uv^\\top) x &= z \\\\\n",
    "y + u(v^\\top x) &= z \\\\\n",
    "y + \\alpha u  &= z \\\\\n",
    "\\end{align*}\n",
    "\n",
    "Let's think about where we are and what's going on:  \n",
    "- $x$ is the original input vector.\n",
    "- $y$ is the original output vector.\n",
    "- $u$ and $v$ are both learned.\n",
    "- $z$ is the new output vector.\n",
    "\n",
    "And we've just found that $\\alpha$ is just a scalar value that depends on $x$, so it changes with every input that's passed in.\n",
    "\n",
    "So, a rank-1 update means: take your old output and some new vector you've learned from whatever fine-tuning setup you did. Now, scale that vector by some value that depends on your input and add it to your old output. That's your new output."
   ]
  },
  {
   "cell_type": "markdown",
   "id": "8ce44e05-6a79-4850-bea9-ac9785a42c59",
   "metadata": {},
   "source": [
    "Let's think about what input values cause various effects.\n",
    "\n",
    "The biggest change from the original output happens when $x = v$. In that situation $u$ gets scaled by the squared magnitude of $x$."
   ]
  },
  {
   "cell_type": "code",
   "execution_count": 1,
   "id": "f88b0cfa-2d96-48b4-8bef-07d7da31d3a9",
   "metadata": {},
   "outputs": [
    {
     "ename": "ImportError",
     "evalue": "dlopen(/Users/alex/mambaforge/lib/python3.10/site-packages/cairo/_cairo.cpython-310-darwin.so, 0x0002): tried: '/Users/alex/mambaforge/lib/python3.10/site-packages/cairo/_cairo.cpython-310-darwin.so' (mach-o file, but is an incompatible architecture (have 'x86_64', need 'arm64')), '/System/Volumes/Preboot/Cryptexes/OS/Users/alex/mambaforge/lib/python3.10/site-packages/cairo/_cairo.cpython-310-darwin.so' (no such file), '/Users/alex/mambaforge/lib/python3.10/site-packages/cairo/_cairo.cpython-310-darwin.so' (mach-o file, but is an incompatible architecture (have 'x86_64', need 'arm64'))",
     "output_type": "error",
     "traceback": [
      "\u001b[0;31m---------------------------------------------------------------------------\u001b[0m",
      "\u001b[0;31mImportError\u001b[0m                               Traceback (most recent call last)",
      "Cell \u001b[0;32mIn[1], line 1\u001b[0m\n\u001b[0;32m----> 1\u001b[0m \u001b[38;5;28;01mfrom\u001b[39;00m \u001b[38;5;21;01mmanim\u001b[39;00m \u001b[38;5;28;01mimport\u001b[39;00m \u001b[38;5;241m*\u001b[39m\n\u001b[1;32m      3\u001b[0m \u001b[38;5;28;01mclass\u001b[39;00m \u001b[38;5;21;01mVectorArrow\u001b[39;00m(Scene):\n\u001b[1;32m      4\u001b[0m     \u001b[38;5;28;01mdef\u001b[39;00m \u001b[38;5;21mconstruct\u001b[39m(\u001b[38;5;28mself\u001b[39m):\n",
      "File \u001b[0;32m~/mambaforge/lib/python3.10/site-packages/manim/__init__.py:23\u001b[0m\n\u001b[1;32m     21\u001b[0m \u001b[38;5;28;01mfrom\u001b[39;00m \u001b[38;5;21;01m.\u001b[39;00m\u001b[38;5;21;01manimation\u001b[39;00m\u001b[38;5;21;01m.\u001b[39;00m\u001b[38;5;21;01manimation\u001b[39;00m \u001b[38;5;28;01mimport\u001b[39;00m \u001b[38;5;241m*\u001b[39m\n\u001b[1;32m     22\u001b[0m \u001b[38;5;28;01mfrom\u001b[39;00m \u001b[38;5;21;01m.\u001b[39;00m\u001b[38;5;21;01manimation\u001b[39;00m\u001b[38;5;21;01m.\u001b[39;00m\u001b[38;5;21;01mchanging\u001b[39;00m \u001b[38;5;28;01mimport\u001b[39;00m \u001b[38;5;241m*\u001b[39m\n\u001b[0;32m---> 23\u001b[0m \u001b[38;5;28;01mfrom\u001b[39;00m \u001b[38;5;21;01m.\u001b[39;00m\u001b[38;5;21;01manimation\u001b[39;00m\u001b[38;5;21;01m.\u001b[39;00m\u001b[38;5;21;01mcomposition\u001b[39;00m \u001b[38;5;28;01mimport\u001b[39;00m \u001b[38;5;241m*\u001b[39m\n\u001b[1;32m     24\u001b[0m \u001b[38;5;28;01mfrom\u001b[39;00m \u001b[38;5;21;01m.\u001b[39;00m\u001b[38;5;21;01manimation\u001b[39;00m\u001b[38;5;21;01m.\u001b[39;00m\u001b[38;5;21;01mcreation\u001b[39;00m \u001b[38;5;28;01mimport\u001b[39;00m \u001b[38;5;241m*\u001b[39m\n\u001b[1;32m     25\u001b[0m \u001b[38;5;28;01mfrom\u001b[39;00m \u001b[38;5;21;01m.\u001b[39;00m\u001b[38;5;21;01manimation\u001b[39;00m\u001b[38;5;21;01m.\u001b[39;00m\u001b[38;5;21;01mfading\u001b[39;00m \u001b[38;5;28;01mimport\u001b[39;00m \u001b[38;5;241m*\u001b[39m\n",
      "File \u001b[0;32m~/mambaforge/lib/python3.10/site-packages/manim/animation/composition.py:15\u001b[0m\n\u001b[1;32m     13\u001b[0m \u001b[38;5;28;01mfrom\u001b[39;00m \u001b[38;5;21;01mmanim\u001b[39;00m\u001b[38;5;21;01m.\u001b[39;00m\u001b[38;5;21;01mmobject\u001b[39;00m\u001b[38;5;21;01m.\u001b[39;00m\u001b[38;5;21;01mmobject\u001b[39;00m \u001b[38;5;28;01mimport\u001b[39;00m Group, Mobject\n\u001b[1;32m     14\u001b[0m \u001b[38;5;28;01mfrom\u001b[39;00m \u001b[38;5;21;01mmanim\u001b[39;00m\u001b[38;5;21;01m.\u001b[39;00m\u001b[38;5;21;01mmobject\u001b[39;00m\u001b[38;5;21;01m.\u001b[39;00m\u001b[38;5;21;01mopengl\u001b[39;00m\u001b[38;5;21;01m.\u001b[39;00m\u001b[38;5;21;01mopengl_mobject\u001b[39;00m \u001b[38;5;28;01mimport\u001b[39;00m OpenGLGroup\n\u001b[0;32m---> 15\u001b[0m \u001b[38;5;28;01mfrom\u001b[39;00m \u001b[38;5;21;01mmanim\u001b[39;00m\u001b[38;5;21;01m.\u001b[39;00m\u001b[38;5;21;01mscene\u001b[39;00m\u001b[38;5;21;01m.\u001b[39;00m\u001b[38;5;21;01mscene\u001b[39;00m \u001b[38;5;28;01mimport\u001b[39;00m Scene\n\u001b[1;32m     16\u001b[0m \u001b[38;5;28;01mfrom\u001b[39;00m \u001b[38;5;21;01mmanim\u001b[39;00m\u001b[38;5;21;01m.\u001b[39;00m\u001b[38;5;21;01mutils\u001b[39;00m\u001b[38;5;21;01m.\u001b[39;00m\u001b[38;5;21;01miterables\u001b[39;00m \u001b[38;5;28;01mimport\u001b[39;00m remove_list_redundancies\n\u001b[1;32m     17\u001b[0m \u001b[38;5;28;01mfrom\u001b[39;00m \u001b[38;5;21;01mmanim\u001b[39;00m\u001b[38;5;21;01m.\u001b[39;00m\u001b[38;5;21;01mutils\u001b[39;00m\u001b[38;5;21;01m.\u001b[39;00m\u001b[38;5;21;01mparameter_parsing\u001b[39;00m \u001b[38;5;28;01mimport\u001b[39;00m flatten_iterable_parameters\n",
      "File \u001b[0;32m~/mambaforge/lib/python3.10/site-packages/manim/scene/scene.py:41\u001b[0m\n\u001b[1;32m     39\u001b[0m \u001b[38;5;28;01mfrom\u001b[39;00m \u001b[38;5;21;01m.\u001b[39;00m\u001b[38;5;21;01m.\u001b[39;00m \u001b[38;5;28;01mimport\u001b[39;00m config, logger\n\u001b[1;32m     40\u001b[0m \u001b[38;5;28;01mfrom\u001b[39;00m \u001b[38;5;21;01m.\u001b[39;00m\u001b[38;5;21;01m.\u001b[39;00m\u001b[38;5;21;01manimation\u001b[39;00m\u001b[38;5;21;01m.\u001b[39;00m\u001b[38;5;21;01manimation\u001b[39;00m \u001b[38;5;28;01mimport\u001b[39;00m Animation, Wait, prepare_animation\n\u001b[0;32m---> 41\u001b[0m \u001b[38;5;28;01mfrom\u001b[39;00m \u001b[38;5;21;01m.\u001b[39;00m\u001b[38;5;21;01m.\u001b[39;00m\u001b[38;5;21;01mcamera\u001b[39;00m\u001b[38;5;21;01m.\u001b[39;00m\u001b[38;5;21;01mcamera\u001b[39;00m \u001b[38;5;28;01mimport\u001b[39;00m Camera\n\u001b[1;32m     42\u001b[0m \u001b[38;5;28;01mfrom\u001b[39;00m \u001b[38;5;21;01m.\u001b[39;00m\u001b[38;5;21;01m.\u001b[39;00m\u001b[38;5;21;01mconstants\u001b[39;00m \u001b[38;5;28;01mimport\u001b[39;00m \u001b[38;5;241m*\u001b[39m\n\u001b[1;32m     43\u001b[0m \u001b[38;5;28;01mfrom\u001b[39;00m \u001b[38;5;21;01m.\u001b[39;00m\u001b[38;5;21;01m.\u001b[39;00m\u001b[38;5;21;01mgui\u001b[39;00m\u001b[38;5;21;01m.\u001b[39;00m\u001b[38;5;21;01mgui\u001b[39;00m \u001b[38;5;28;01mimport\u001b[39;00m configure_pygui\n",
      "File \u001b[0;32m~/mambaforge/lib/python3.10/site-packages/manim/camera/camera.py:14\u001b[0m\n\u001b[1;32m     11\u001b[0m \u001b[38;5;28;01mfrom\u001b[39;00m \u001b[38;5;21;01mfunctools\u001b[39;00m \u001b[38;5;28;01mimport\u001b[39;00m reduce\n\u001b[1;32m     12\u001b[0m \u001b[38;5;28;01mfrom\u001b[39;00m \u001b[38;5;21;01mtyping\u001b[39;00m \u001b[38;5;28;01mimport\u001b[39;00m Any, Callable, Iterable\n\u001b[0;32m---> 14\u001b[0m \u001b[38;5;28;01mimport\u001b[39;00m \u001b[38;5;21;01mcairo\u001b[39;00m\n\u001b[1;32m     15\u001b[0m \u001b[38;5;28;01mimport\u001b[39;00m \u001b[38;5;21;01mnumpy\u001b[39;00m \u001b[38;5;28;01mas\u001b[39;00m \u001b[38;5;21;01mnp\u001b[39;00m\n\u001b[1;32m     16\u001b[0m \u001b[38;5;28;01mfrom\u001b[39;00m \u001b[38;5;21;01mPIL\u001b[39;00m \u001b[38;5;28;01mimport\u001b[39;00m Image\n",
      "File \u001b[0;32m~/mambaforge/lib/python3.10/site-packages/cairo/__init__.py:1\u001b[0m\n\u001b[0;32m----> 1\u001b[0m \u001b[38;5;28;01mfrom\u001b[39;00m \u001b[38;5;21;01m.\u001b[39;00m\u001b[38;5;21;01m_cairo\u001b[39;00m \u001b[38;5;28;01mimport\u001b[39;00m \u001b[38;5;241m*\u001b[39m  \u001b[38;5;66;03m# noqa: F401,F403\u001b[39;00m\n\u001b[1;32m      4\u001b[0m \u001b[38;5;28;01mdef\u001b[39;00m \u001b[38;5;21mget_include\u001b[39m():\n\u001b[1;32m      5\u001b[0m \u001b[38;5;250m    \u001b[39m\u001b[38;5;124;03m\"\"\"Returns a path to the directory containing the C header files\"\"\"\u001b[39;00m\n",
      "\u001b[0;31mImportError\u001b[0m: dlopen(/Users/alex/mambaforge/lib/python3.10/site-packages/cairo/_cairo.cpython-310-darwin.so, 0x0002): tried: '/Users/alex/mambaforge/lib/python3.10/site-packages/cairo/_cairo.cpython-310-darwin.so' (mach-o file, but is an incompatible architecture (have 'x86_64', need 'arm64')), '/System/Volumes/Preboot/Cryptexes/OS/Users/alex/mambaforge/lib/python3.10/site-packages/cairo/_cairo.cpython-310-darwin.so' (no such file), '/Users/alex/mambaforge/lib/python3.10/site-packages/cairo/_cairo.cpython-310-darwin.so' (mach-o file, but is an incompatible architecture (have 'x86_64', need 'arm64'))"
     ]
    }
   ],
   "source": [
    "# from manim import *\n",
    "\n",
    "# class VectorArrow(Scene):\n",
    "#     def construct(self):\n",
    "#         dot = Dot(ORIGIN)\n",
    "#         arrow = Arrow(ORIGIN, [2, 2, 0], buff=0)\n",
    "#         numberplane = NumberPlane()\n",
    "#         origin_text = Text('(0, 0)').next_to(dot, DOWN)\n",
    "#         tip_text = Text('(2, 2)').next_to(arrow.get_end(), RIGHT)\n",
    "#         self.add(numberplane, dot, arrow, origin_text, tip_text)"
   ]
  }
 ],
 "metadata": {
  "kernelspec": {
   "display_name": "Python 3 (ipykernel)",
   "language": "python",
   "name": "python3"
  },
  "language_info": {
   "codemirror_mode": {
    "name": "ipython",
    "version": 3
   },
   "file_extension": ".py",
   "mimetype": "text/x-python",
   "name": "python",
   "nbconvert_exporter": "python",
   "pygments_lexer": "ipython3",
   "version": "3.10.12"
  }
 },
 "nbformat": 4,
 "nbformat_minor": 5
}
